{
 "cells": [
  {
   "cell_type": "code",
   "execution_count": 15,
   "id": "c17f2d03",
   "metadata": {},
   "outputs": [
    {
     "name": "stdout",
     "output_type": "stream",
     "text": [
      "Abraham Lincoln\n",
      "Andrew P Garfield\n",
      "Connor Milliken\n",
      "Jordan Alexander Williams\n",
      "None\n",
      "None\n"
     ]
    }
   ],
   "source": [
    "import re\n",
    "\n",
    "with open ('files/regex_test.txt') as f:\n",
    "    data = f.readlines()\n",
    "    pattern_1 = re.compile(\"(?P<FIRST>[A-Z][a-zA-Z]*) (?P<MIDDLE>[A-Z][a-zA-Z]*) (?P<LAST>[A-Z][a-zA-Z]*)\")\n",
    "    pattern_2 = re.compile(\"(?P<FIRST>[A-Z][a-zA-Z]*) (?P<LAST>[A-Z][a-zA-Z]*)\")\n",
    "\n",
    "    for name in data:\n",
    "        match = pattern_1.search(name)\n",
    "        match_2 = pattern_2.search(name)\n",
    "    \n",
    "        if match:\n",
    "            print(f\"{match.group('FIRST')} {match.group('MIDDLE')} {match.group('LAST')}\")\n",
    "        elif match_2:    \n",
    "            print(f\"{match_2.group('FIRST')} {match_2.group('LAST')}\")\n",
    "        else:\n",
    "            print(None)\n",
    "            \n",
    "            \n",
    "\n",
    "\n",
    "\n"
   ]
  },
  {
   "cell_type": "code",
   "execution_count": null,
   "id": "ab81e6d4",
   "metadata": {},
   "outputs": [],
   "source": []
  },
  {
   "cell_type": "code",
   "execution_count": null,
   "id": "1619d965",
   "metadata": {},
   "outputs": [],
   "source": []
  }
 ],
 "metadata": {
  "kernelspec": {
   "display_name": "Python 3 (ipykernel)",
   "language": "python",
   "name": "python3"
  },
  "language_info": {
   "codemirror_mode": {
    "name": "ipython",
    "version": 3
   },
   "file_extension": ".py",
   "mimetype": "text/x-python",
   "name": "python",
   "nbconvert_exporter": "python",
   "pygments_lexer": "ipython3",
   "version": "3.9.7"
  }
 },
 "nbformat": 4,
 "nbformat_minor": 5
}
